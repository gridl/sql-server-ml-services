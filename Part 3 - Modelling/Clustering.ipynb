{
 "cells": [
  {
   "cell_type": "markdown",
   "metadata": {},
   "source": [
    "# K-means clustering"
   ]
  },
  {
   "cell_type": "code",
   "execution_count": 1,
   "metadata": {},
   "outputs": [
    {
     "ename": "ModuleNotFoundError",
     "evalue": "No module named 'revoscalepy'",
     "output_type": "error",
     "traceback": [
      "\u001b[1;31m---------------------------------------------------------------------------\u001b[0m",
      "\u001b[1;31mModuleNotFoundError\u001b[0m                       Traceback (most recent call last)",
      "\u001b[1;32m<ipython-input-1-fea5d82e43d9>\u001b[0m in \u001b[0;36m<module>\u001b[1;34m\u001b[0m\n\u001b[0;32m      2\u001b[0m \u001b[1;32mimport\u001b[0m \u001b[0mnumpy\u001b[0m \u001b[1;32mas\u001b[0m \u001b[0mnp\u001b[0m\u001b[1;33m\u001b[0m\u001b[1;33m\u001b[0m\u001b[0m\n\u001b[0;32m      3\u001b[0m \u001b[1;32mimport\u001b[0m \u001b[0mpandas\u001b[0m \u001b[1;32mas\u001b[0m \u001b[0mpd\u001b[0m\u001b[1;33m\u001b[0m\u001b[1;33m\u001b[0m\u001b[0m\n\u001b[1;32m----> 4\u001b[1;33m \u001b[1;32mimport\u001b[0m \u001b[0mrevoscalepy\u001b[0m \u001b[1;32mas\u001b[0m \u001b[0mrevoscale\u001b[0m\u001b[1;33m\u001b[0m\u001b[1;33m\u001b[0m\u001b[0m\n\u001b[0m\u001b[0;32m      5\u001b[0m \u001b[1;32mfrom\u001b[0m \u001b[0mscipy\u001b[0m\u001b[1;33m.\u001b[0m\u001b[0mspatial\u001b[0m \u001b[1;32mimport\u001b[0m \u001b[0mdistance\u001b[0m \u001b[1;32mas\u001b[0m \u001b[0msci_distance\u001b[0m\u001b[1;33m\u001b[0m\u001b[1;33m\u001b[0m\u001b[0m\n\u001b[0;32m      6\u001b[0m \u001b[1;32mfrom\u001b[0m \u001b[0msklearn\u001b[0m \u001b[1;32mimport\u001b[0m \u001b[0mcluster\u001b[0m \u001b[1;32mas\u001b[0m \u001b[0msk_cluster\u001b[0m\u001b[1;33m\u001b[0m\u001b[1;33m\u001b[0m\u001b[0m\n",
      "\u001b[1;31mModuleNotFoundError\u001b[0m: No module named 'revoscalepy'"
     ]
    }
   ],
   "source": [
    "import matplotlib.pyplot as plt\n",
    "import numpy as np\n",
    "import pandas as pd\n",
    "import revoscalepy as revoscale\n",
    "from scipy.spatial import distance as sci_distance\n",
    "from sklearn import cluster as sk_cluster"
   ]
  },
  {
   "cell_type": "code",
   "execution_count": null,
   "metadata": {},
   "outputs": [],
   "source": [
    "\n",
    "def perform_clustering():\n",
    "    ################################################################################################\n",
    "\n",
    "    ##\tConnect to DB and select data\n",
    "\n",
    "    ################################################################################################\n",
    "\n",
    "    # Connection string to connect to SQL Server named instance.\n",
    "    conn_str = 'Driver=SQL Server;Server=localhost;Database=tpcxbb_1gb;Trusted_Connection=True;'\n",
    "\n",
    "    input_query = '''SELECT\n",
    "    ss_customer_sk AS customer,\n",
    "    ROUND(COALESCE(returns_count / NULLIF(1.0*orders_count, 0), 0), 7) AS orderRatio,\n",
    "    ROUND(COALESCE(returns_items / NULLIF(1.0*orders_items, 0), 0), 7) AS itemsRatio,\n",
    "    ROUND(COALESCE(returns_money / NULLIF(1.0*orders_money, 0), 0), 7) AS monetaryRatio,\n",
    "    COALESCE(returns_count, 0) AS frequency\n",
    "    FROM\n",
    "    (\n",
    "      SELECT\n",
    "        ss_customer_sk,\n",
    "        -- return order ratio\n",
    "        COUNT(distinct(ss_ticket_number)) AS orders_count,\n",
    "        -- return ss_item_sk ratio\n",
    "        COUNT(ss_item_sk) AS orders_items,\n",
    "        -- return monetary amount ratio\n",
    "        SUM( ss_net_paid ) AS orders_money\n",
    "      FROM store_sales s\n",
    "      GROUP BY ss_customer_sk\n",
    "    ) orders\n",
    "    LEFT OUTER JOIN\n",
    "    (\n",
    "      SELECT\n",
    "        sr_customer_sk,\n",
    "        -- return order ratio\n",
    "        count(distinct(sr_ticket_number)) as returns_count,\n",
    "        -- return ss_item_sk ratio\n",
    "        COUNT(sr_item_sk) as returns_items,\n",
    "        -- return monetary amount ratio\n",
    "        SUM( sr_return_amt ) AS returns_money\n",
    "    FROM store_returns\n",
    "    GROUP BY sr_customer_sk ) returned ON ss_customer_sk=sr_customer_sk'''\n",
    "\n",
    "\n",
    "    # Define the columns we wish to import.\n",
    "    column_info = {\n",
    "        \"customer\": {\"type\": \"integer\"},\n",
    "        \"orderRatio\": {\"type\": \"integer\"},\n",
    "        \"itemsRatio\": {\"type\": \"integer\"},\n",
    "        \"frequency\": {\"type\": \"integer\"}\n",
    "    }"
   ]
  }
 ],
 "metadata": {
  "kernelspec": {
   "display_name": "Python 3",
   "language": "python",
   "name": "python3"
  },
  "language_info": {
   "codemirror_mode": {
    "name": "ipython",
    "version": 3
   },
   "file_extension": ".py",
   "mimetype": "text/x-python",
   "name": "python",
   "nbconvert_exporter": "python",
   "pygments_lexer": "ipython3",
   "version": "3.7.1"
  }
 },
 "nbformat": 4,
 "nbformat_minor": 2
}
