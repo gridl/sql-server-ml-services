{
 "cells": [
  {
   "cell_type": "markdown",
   "metadata": {},
   "source": [
    "# K-means clustering"
   ]
  },
  {
   "cell_type": "code",
   "execution_count": 1,
   "metadata": {},
   "outputs": [
    {
     "ename": "ModuleNotFoundError",
     "evalue": "No module named 'revoscalepy'",
     "output_type": "error",
     "traceback": [
      "\u001b[1;31m---------------------------------------------------------------------------\u001b[0m",
      "\u001b[1;31mModuleNotFoundError\u001b[0m                       Traceback (most recent call last)",
      "\u001b[1;32m<ipython-input-1-fea5d82e43d9>\u001b[0m in \u001b[0;36m<module>\u001b[1;34m\u001b[0m\n\u001b[0;32m      2\u001b[0m \u001b[1;32mimport\u001b[0m \u001b[0mnumpy\u001b[0m \u001b[1;32mas\u001b[0m \u001b[0mnp\u001b[0m\u001b[1;33m\u001b[0m\u001b[1;33m\u001b[0m\u001b[0m\n\u001b[0;32m      3\u001b[0m \u001b[1;32mimport\u001b[0m \u001b[0mpandas\u001b[0m \u001b[1;32mas\u001b[0m \u001b[0mpd\u001b[0m\u001b[1;33m\u001b[0m\u001b[1;33m\u001b[0m\u001b[0m\n\u001b[1;32m----> 4\u001b[1;33m \u001b[1;32mimport\u001b[0m \u001b[0mrevoscalepy\u001b[0m \u001b[1;32mas\u001b[0m \u001b[0mrevoscale\u001b[0m\u001b[1;33m\u001b[0m\u001b[1;33m\u001b[0m\u001b[0m\n\u001b[0m\u001b[0;32m      5\u001b[0m \u001b[1;32mfrom\u001b[0m \u001b[0mscipy\u001b[0m\u001b[1;33m.\u001b[0m\u001b[0mspatial\u001b[0m \u001b[1;32mimport\u001b[0m \u001b[0mdistance\u001b[0m \u001b[1;32mas\u001b[0m \u001b[0msci_distance\u001b[0m\u001b[1;33m\u001b[0m\u001b[1;33m\u001b[0m\u001b[0m\n\u001b[0;32m      6\u001b[0m \u001b[1;32mfrom\u001b[0m \u001b[0msklearn\u001b[0m \u001b[1;32mimport\u001b[0m \u001b[0mcluster\u001b[0m \u001b[1;32mas\u001b[0m \u001b[0msk_cluster\u001b[0m\u001b[1;33m\u001b[0m\u001b[1;33m\u001b[0m\u001b[0m\n",
      "\u001b[1;31mModuleNotFoundError\u001b[0m: No module named 'revoscalepy'"
     ]
    }
   ],
   "source": [
    "import matplotlib.pyplot as plt\n",
    "import numpy as np\n",
    "import pandas as pd\n",
    "import revoscalepy as revoscale\n",
    "from scipy.spatial import distance as sci_distance\n",
    "from sklearn import cluster as sk_cluster"
   ]
  },
  {
   "cell_type": "markdown",
   "metadata": {},
   "source": [
    "## Step 1\n",
    "\n",
    "A query from SQL Server, we are separating customers along the following dimensions:\n",
    "\n",
    "- return frequency\n",
    "- return order ratio (total number of orders partially or fully returned versus the total number of orders)\n",
    "- return item ratio (total number of items returned versus the number of items purchased)\n",
    "- return amount ration (total monetary amount of items returned versus the amount purchased)"
   ]
  },
  {
   "cell_type": "code",
   "execution_count": null,
   "metadata": {},
   "outputs": [],
   "source": [
    "def perform_clustering():\n",
    "    conn_str = 'Driver=SQL Server;Server=localhost;Database=tpcxbb_1gb;Trusted_Connection=True;'\n",
    "\n",
    "\n",
    "    input_query = '''SELECT\n",
    "    ss_customer_sk AS customer,\n",
    "    ROUND(COALESCE(returns_count / NULLIF(1.0*orders_count, 0), 0), 7) AS orderRatio,\n",
    "    ROUND(COALESCE(returns_items / NULLIF(1.0*orders_items, 0), 0), 7) AS itemsRatio,\n",
    "    ROUND(COALESCE(returns_money / NULLIF(1.0*orders_money, 0), 0), 7) AS monetaryRatio,\n",
    "    COALESCE(returns_count, 0) AS frequency\n",
    "    FROM\n",
    "    (\n",
    "      SELECT\n",
    "        ss_customer_sk,\n",
    "        -- return order ratio\n",
    "        COUNT(distinct(ss_ticket_number)) AS orders_count,\n",
    "        -- return ss_item_sk ratio\n",
    "        COUNT(ss_item_sk) AS orders_items,\n",
    "        -- return monetary amount ratio\n",
    "        SUM( ss_net_paid ) AS orders_money\n",
    "      FROM store_sales s\n",
    "      GROUP BY ss_customer_sk\n",
    "    ) orders\n",
    "    LEFT OUTER JOIN\n",
    "    (\n",
    "      SELECT\n",
    "        sr_customer_sk,\n",
    "        -- return order ratio\n",
    "        count(distinct(sr_ticket_number)) as returns_count,\n",
    "        -- return ss_item_sk ratio\n",
    "        COUNT(sr_item_sk) as returns_items,\n",
    "        -- return monetary amount ratio\n",
    "        SUM( sr_return_amt ) AS returns_money\n",
    "    FROM store_returns\n",
    "    GROUP BY sr_customer_sk ) returned ON ss_customer_sk=sr_customer_sk'''\n",
    "\n",
    "\n",
    "    # Define the columns we wish to import.\n",
    "    column_info = {\n",
    "        \"customer\": {\"type\": \"integer\"},\n",
    "        \"orderRatio\": {\"type\": \"integer\"},\n",
    "        \"itemsRatio\": {\"type\": \"integer\"},\n",
    "        \"frequency\": {\"type\": \"integer\"}\n",
    "    }"
   ]
  },
  {
   "cell_type": "markdown",
   "metadata": {},
   "source": [
    "## Step 2\n",
    "\n",
    "Results from the query are returned to Python using the revoscalepy RxSqlServerData function. \n",
    "\n",
    "This is also where we provide column info, to make sure that the types are correctly transferred."
   ]
  },
  {
   "cell_type": "code",
   "execution_count": null,
   "metadata": {},
   "outputs": [],
   "source": [
    "data_source = revoscale.RxSqlServerData(sql_query=input_query, column_Info=column_info,\n",
    "                                              connection_string=conn_str)\n",
    "\n",
    "    revoscale.RxInSqlServer(connection_string=conn_str, num_tasks=1, auto_cleanup=False)\n",
    "    # import data source and convert to pandas dataframe.\n",
    "    customer_data = pd.DataFrame(revoscale.rx_import(data_source))\n",
    "    print(\"Data frame:\", customer_data.head(n=5))"
   ]
  },
  {
   "cell_type": "markdown",
   "metadata": {},
   "source": [
    "## Step 3\n",
    "\n",
    "Using the clustering algorithm K-means, is one of the simplest and most well known ways of grouping data. \n",
    "\n",
    "Now that we have our selected data, we can group the data into clusters using the iterative data mining algorithm called K-means.\n",
    "\n",
    "The algorithm accepts two inputs: The data itself, and a predefined number “k”, the number of clusters. \n",
    "The output is k clusters with input data partitioned among them.\n",
    "\n",
    "The goal of K-means is to group the items into k clusters such that all items in same cluster are as similar to each other as possible. And items not in same cluster are as different as possible. It uses the distance measures to calculate similarity and dissimilarity.\n",
    "\n",
    "### How the algorithm works\n",
    "\n",
    "- It randomly chooses k points and make them the initial centroids (each cluster has a centroid which basically is the “center” of the cluster)\n",
    "\n",
    "- For each point, it finds the nearest centroid and assigns the point to the cluster associated with the nearest centroid \n",
    "\n",
    "- Updates the centroid of each cluster based on members in that cluster. Typically, a new centroid will be the average of all members in the cluster\n",
    "\n",
    "- Repeats steps 2 and 3, until the clusters are stable\n",
    "\n",
    "The number of clusters has to be predefined and the quality of the clusters is heavily dependent on the correctness of the k value specified. \n",
    "\n",
    "You could just randomly pick a number of clusters, run K-means and iterate your way to a good number. \n",
    "\n",
    "Or we can use Python to evaluate which number of clusters is best for our dataset. \n",
    "\n"
   ]
  },
  {
   "cell_type": "code",
   "execution_count": null,
   "metadata": {},
   "outputs": [],
   "source": [
    "################################################################################################\n",
    "\n",
    "    ##\tDetermine number of clusters using the Elbow method\n",
    "\n",
    "    ################################################################################################\n",
    "\n",
    "    cdata = customer_data\n",
    "    K = range(1, 20)\n",
    "    KM = (sk_cluster.KMeans(n_clusters=k).fit(cdata) for k in K)\n",
    "    centroids = (k.cluster_centers_ for k in KM)\n",
    "\n",
    "    D_k = (sci_distance.cdist(cdata, cent, 'euclidean') for cent in centroids)\n",
    "    dist = (np.min(D, axis=1) for D in D_k)\n",
    "    avgWithinSS = [sum(d) / cdata.shape[0] for d in dist]\n",
    "    plt.plot(K, avgWithinSS, 'b*-')\n",
    "    plt.grid(True)\n",
    "    plt.xlabel('Number of clusters')\n",
    "    plt.ylabel('Average within-cluster sum of squares')\n",
    "    plt.title('Elbow for KMeans clustering')\n",
    "    plt.show()"
   ]
  },
  {
   "cell_type": "markdown",
   "metadata": {},
   "source": [
    "### Use k-means function from the sklearn package."
   ]
  },
  {
   "cell_type": "code",
   "execution_count": null,
   "metadata": {},
   "outputs": [],
   "source": [
    "################################################################################################\n",
    "##\tPerform clustering using Kmeans\n",
    "################################################################################################\n",
    "\n",
    "     n_clusters = 4\n",
    "\n",
    "    means_cluster = sk_cluster.KMeans(n_clusters=n_clusters, random_state=111)\n",
    "    columns = [\"orderRatio\", \"itemsRatio\", \"monetaryRatio\", \"frequency\"]\n",
    "    est = means_cluster.fit(customer_data[columns])\n",
    "    clusters = est.labels_\n",
    "    customer_data['cluster'] = clusters\n",
    "\n",
    "    # Print some data about the clusters:\n",
    "\n",
    "    # For each cluster, count the members.\n",
    "    for c in range(n_clusters):\n",
    "        cluster_members=customer_data[customer_data['cluster'] == c][:]\n",
    "        print('Cluster{}(n={}):'.format(c, len(cluster_members)))\n",
    "        print('-'* 17)\n",
    "\n",
    "    # Print mean values per cluster.\n",
    "    print(customer_data.groupby(['cluster']).mean())\n",
    "\n",
    "\n",
    "perform_clustering()"
   ]
  },
  {
   "cell_type": "code",
   "execution_count": null,
   "metadata": {},
   "outputs": [],
   "source": []
  }
 ],
 "metadata": {
  "kernelspec": {
   "display_name": "Python 3",
   "language": "python",
   "name": "python3"
  },
  "language_info": {
   "codemirror_mode": {
    "name": "ipython",
    "version": 3
   },
   "file_extension": ".py",
   "mimetype": "text/x-python",
   "name": "python",
   "nbconvert_exporter": "python",
   "pygments_lexer": "ipython3",
   "version": "3.7.1"
  }
 },
 "nbformat": 4,
 "nbformat_minor": 2
}
